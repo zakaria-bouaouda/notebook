{
 "cells": [
  {
   "cell_type": "markdown",
   "id": "fdd51349-d048-4bda-a4e4-8f047e291f10",
   "metadata": {},
   "source": [
    "# Data Science Tools and Ecosystem"
   ]
  },
  {
   "cell_type": "markdown",
   "id": "779f0add-27b6-40b9-a680-dd9a80aeb048",
   "metadata": {},
   "source": [
    "In this notebook, Data Science Tools and Ecosystem are summarized."
   ]
  },
  {
   "cell_type": "markdown",
   "id": "92089bfa-92d0-4d11-8f01-d63ff9968984",
   "metadata": {},
   "source": [
    "Some of the popular languages that Data Scientists use are:\n",
    "* python\n",
    "* R\n",
    "* Scala"
   ]
  },
  {
   "cell_type": "markdown",
   "id": "e3ff8918-038e-490a-85c7-4c30c9cba3a1",
   "metadata": {},
   "source": [
    "Some of the commonly used libraries used by Data Scientists include:\n",
    "* Pandas\n",
    "* scikit-learn\n",
    "* Matptotlib"
   ]
  },
  {
   "cell_type": "markdown",
   "id": "02ddfa56-ddd3-4361-b290-b02efab8192d",
   "metadata": {},
   "source": [
    "| Data Science Tools |\n",
    "|--------------------|\n",
    "| Jupyter Notebook   |\n",
    "| RStudio            |\n",
    "| Apache Zeppelin    |\n"
   ]
  },
  {
   "cell_type": "markdown",
   "id": "14919e99-8480-4eaa-83e3-5c00efcc537b",
   "metadata": {},
   "source": [
    "### Below are a few examples of evaluating arithmetic expressions in Python"
   ]
  },
  {
   "cell_type": "code",
   "execution_count": 1,
   "id": "12011f95-f1f6-41c0-8cee-49db24ad190d",
   "metadata": {},
   "outputs": [
    {
     "data": {
      "text/plain": [
       "17"
      ]
     },
     "execution_count": 1,
     "metadata": {},
     "output_type": "execute_result"
    }
   ],
   "source": [
    "# This a simple arithmetic expression to multiply then add integers\n",
    "(3 * 4) + 5\n"
   ]
  },
  {
   "cell_type": "code",
   "execution_count": 2,
   "id": "9fb95b16-f2b8-4796-96f4-b02500b82309",
   "metadata": {},
   "outputs": [
    {
     "data": {
      "text/plain": [
       "3.3333333333333335"
      ]
     },
     "execution_count": 2,
     "metadata": {},
     "output_type": "execute_result"
    }
   ],
   "source": [
    "# This will convert 200 minutes to hours by dividing by 60\n",
    "200 / 60\n"
   ]
  },
  {
   "cell_type": "markdown",
   "id": "21830617-1483-437a-8fb6-b7f4eec8fd02",
   "metadata": {},
   "source": [
    "**Objectives:**\n",
    "- List popular languages for Data Science\n",
    "- List commonly used libraries in Data Science\n",
    "- Create a table of Data Science tools\n",
    "- Show examples of basic arithmetic operations in Python\n"
   ]
  },
  {
   "cell_type": "markdown",
   "id": "e6e72cca-75cd-4edf-9ee6-ec8b2847a809",
   "metadata": {},
   "source": [
    "## Author\n",
    "[Zakaria Bouaouda]\n"
   ]
  },
  {
   "cell_type": "code",
   "execution_count": null,
   "id": "d7133d5a-d396-4da8-8c38-cbb925236f65",
   "metadata": {},
   "outputs": [],
   "source": []
  }
 ],
 "metadata": {
  "kernelspec": {
   "display_name": "Python 3 (ipykernel)",
   "language": "python",
   "name": "python3"
  },
  "language_info": {
   "codemirror_mode": {
    "name": "ipython",
    "version": 3
   },
   "file_extension": ".py",
   "mimetype": "text/x-python",
   "name": "python",
   "nbconvert_exporter": "python",
   "pygments_lexer": "ipython3",
   "version": "3.11.8"
  }
 },
 "nbformat": 4,
 "nbformat_minor": 5
}
